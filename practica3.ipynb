{
 "cells": [
  {
   "cell_type": "markdown",
   "metadata": {},
   "source": [
    "# Medicion Indirecta de G.\n",
    "\n",
    "\n",
    "\n",
    "<div class=\"row\">\n",
    "    <div class=\"col\">\n",
    "        <h2 id=\"caso1\">Fórmulas del plano inclinado sin fricción</h2>\n",
    "        <p>En un plano inclinado sin fricción, un bloque experimentará una aceleración únicamente debido a su peso.</p>\n",
    "        <p>Sabemos que la fuerza debido al peso es igual a $mg$ y que tiene dirección vertical con sentido hacia abajo.</p>\n",
    "        <p>Por otro lado, el bloque solo puede moverse en el eje definido por el plano inclinado. En este caso, definimos el eje $x$ con la misma dirección que el plano inclinado y con el sentido positivo hacia abajo.</p>\n",
    "        <center><img src=\"https://www.calcuvio.com/images/all/plano_inclinado.png\" alt=\"Plano inclinado\" width=\"250\" ></center>\n",
    "        <p>La <b><a class=\"link\" target=\"_blank\" rel=\"noopener noreferrer\" href=\"/segunda-ley-newton\">segunda ley de Newton</a></b> dice que la fuerza aplicada sobre un cuerpo es igual a la masa multiplicada por la aceleración.</p>\n",
    "        <p class=\"of\">$$F=ma$$</p>\n",
    "        <p>Esto significa que si queremos conocer la aceleración del bloque en el eje $x$ tan solo debemos conocer la fuerza aplicada en este eje y la masa del bloque.</p>\n",
    "        <p>Aplicando relaciones trigonométricas básicas podemos descomponer el peso en sus componentes $x$ y $y$ definidas a partir del ángulo del plano inclinado ($\\theta$):</p>\n",
    "        <center><img src=\"https://www.calcuvio.com/images/all/plano_inclinado_peso.png\" alt=\"Descomposición del peso en dos ejes\" width=\"250\" ></center>\n",
    "        <p class=\"of\">$$\\begin{gathered}P_x=P\\sin\\theta=mg\\sin\\theta\\\\P_y=P\\cos\\theta=mg\\cos\\theta\\\\\\end{gathered}$$</p>\n",
    "        <p>Si escribimos ahora la segunda ley de Newton correspondiente al eje $x$ obtenemos la aceleración del cuerpo en este eje:</p>\n",
    "        <p class=\"of\">$$F_x = ma_x = mg\\sin\\theta$$</p>\n",
    "        <p>En consecuencia, podemos deducir que la aceleración del cuerpo a lo largo de un plano inclinado si no hay fricción es igual a:</p>\n",
    "        <p class=\"of\">$$a = g\\sin\\theta$$</p>\n",
    "        <p>A partir de este resultado se concluye que la aceleración de un bloque en un plano inclinado <b>sin considerar la fricción</b> es independiente del peso del bloque. Esto implica que en absencia de fricción cualquier bloque independientemente de su masa experimentaría la misma aceleración.</p></div>\n",
    "\n"
   ]
  },
  {
   "cell_type": "code",
   "execution_count": 13,
   "metadata": {},
   "outputs": [
    {
     "data": {
      "text/html": [
       "\n",
       "    <div class=\"bk-root\">\n",
       "        <a href=\"https://bokeh.org\" target=\"_blank\" class=\"bk-logo bk-logo-small bk-logo-notebook\"></a>\n",
       "        <span id=\"2054\">Loading BokehJS ...</span>\n",
       "    </div>"
      ]
     },
     "metadata": {},
     "output_type": "display_data"
    },
    {
     "data": {
      "application/javascript": [
       "\n",
       "(function(root) {\n",
       "  function now() {\n",
       "    return new Date();\n",
       "  }\n",
       "\n",
       "  var force = true;\n",
       "\n",
       "  if (typeof root._bokeh_onload_callbacks === \"undefined\" || force === true) {\n",
       "    root._bokeh_onload_callbacks = [];\n",
       "    root._bokeh_is_loading = undefined;\n",
       "  }\n",
       "\n",
       "  var JS_MIME_TYPE = 'application/javascript';\n",
       "  var HTML_MIME_TYPE = 'text/html';\n",
       "  var EXEC_MIME_TYPE = 'application/vnd.bokehjs_exec.v0+json';\n",
       "  var CLASS_NAME = 'output_bokeh rendered_html';\n",
       "\n",
       "  /**\n",
       "   * Render data to the DOM node\n",
       "   */\n",
       "  function render(props, node) {\n",
       "    var script = document.createElement(\"script\");\n",
       "    node.appendChild(script);\n",
       "  }\n",
       "\n",
       "  /**\n",
       "   * Handle when an output is cleared or removed\n",
       "   */\n",
       "  function handleClearOutput(event, handle) {\n",
       "    var cell = handle.cell;\n",
       "\n",
       "    var id = cell.output_area._bokeh_element_id;\n",
       "    var server_id = cell.output_area._bokeh_server_id;\n",
       "    // Clean up Bokeh references\n",
       "    if (id != null && id in Bokeh.index) {\n",
       "      Bokeh.index[id].model.document.clear();\n",
       "      delete Bokeh.index[id];\n",
       "    }\n",
       "\n",
       "    if (server_id !== undefined) {\n",
       "      // Clean up Bokeh references\n",
       "      var cmd = \"from bokeh.io.state import curstate; print(curstate().uuid_to_server['\" + server_id + \"'].get_sessions()[0].document.roots[0]._id)\";\n",
       "      cell.notebook.kernel.execute(cmd, {\n",
       "        iopub: {\n",
       "          output: function(msg) {\n",
       "            var id = msg.content.text.trim();\n",
       "            if (id in Bokeh.index) {\n",
       "              Bokeh.index[id].model.document.clear();\n",
       "              delete Bokeh.index[id];\n",
       "            }\n",
       "          }\n",
       "        }\n",
       "      });\n",
       "      // Destroy server and session\n",
       "      var cmd = \"import bokeh.io.notebook as ion; ion.destroy_server('\" + server_id + \"')\";\n",
       "      cell.notebook.kernel.execute(cmd);\n",
       "    }\n",
       "  }\n",
       "\n",
       "  /**\n",
       "   * Handle when a new output is added\n",
       "   */\n",
       "  function handleAddOutput(event, handle) {\n",
       "    var output_area = handle.output_area;\n",
       "    var output = handle.output;\n",
       "\n",
       "    // limit handleAddOutput to display_data with EXEC_MIME_TYPE content only\n",
       "    if ((output.output_type != \"display_data\") || (!output.data.hasOwnProperty(EXEC_MIME_TYPE))) {\n",
       "      return\n",
       "    }\n",
       "\n",
       "    var toinsert = output_area.element.find(\".\" + CLASS_NAME.split(' ')[0]);\n",
       "\n",
       "    if (output.metadata[EXEC_MIME_TYPE][\"id\"] !== undefined) {\n",
       "      toinsert[toinsert.length - 1].firstChild.textContent = output.data[JS_MIME_TYPE];\n",
       "      // store reference to embed id on output_area\n",
       "      output_area._bokeh_element_id = output.metadata[EXEC_MIME_TYPE][\"id\"];\n",
       "    }\n",
       "    if (output.metadata[EXEC_MIME_TYPE][\"server_id\"] !== undefined) {\n",
       "      var bk_div = document.createElement(\"div\");\n",
       "      bk_div.innerHTML = output.data[HTML_MIME_TYPE];\n",
       "      var script_attrs = bk_div.children[0].attributes;\n",
       "      for (var i = 0; i < script_attrs.length; i++) {\n",
       "        toinsert[toinsert.length - 1].firstChild.setAttribute(script_attrs[i].name, script_attrs[i].value);\n",
       "        toinsert[toinsert.length - 1].firstChild.textContent = bk_div.children[0].textContent\n",
       "      }\n",
       "      // store reference to server id on output_area\n",
       "      output_area._bokeh_server_id = output.metadata[EXEC_MIME_TYPE][\"server_id\"];\n",
       "    }\n",
       "  }\n",
       "\n",
       "  function register_renderer(events, OutputArea) {\n",
       "\n",
       "    function append_mime(data, metadata, element) {\n",
       "      // create a DOM node to render to\n",
       "      var toinsert = this.create_output_subarea(\n",
       "        metadata,\n",
       "        CLASS_NAME,\n",
       "        EXEC_MIME_TYPE\n",
       "      );\n",
       "      this.keyboard_manager.register_events(toinsert);\n",
       "      // Render to node\n",
       "      var props = {data: data, metadata: metadata[EXEC_MIME_TYPE]};\n",
       "      render(props, toinsert[toinsert.length - 1]);\n",
       "      element.append(toinsert);\n",
       "      return toinsert\n",
       "    }\n",
       "\n",
       "    /* Handle when an output is cleared or removed */\n",
       "    events.on('clear_output.CodeCell', handleClearOutput);\n",
       "    events.on('delete.Cell', handleClearOutput);\n",
       "\n",
       "    /* Handle when a new output is added */\n",
       "    events.on('output_added.OutputArea', handleAddOutput);\n",
       "\n",
       "    /**\n",
       "     * Register the mime type and append_mime function with output_area\n",
       "     */\n",
       "    OutputArea.prototype.register_mime_type(EXEC_MIME_TYPE, append_mime, {\n",
       "      /* Is output safe? */\n",
       "      safe: true,\n",
       "      /* Index of renderer in `output_area.display_order` */\n",
       "      index: 0\n",
       "    });\n",
       "  }\n",
       "\n",
       "  // register the mime type if in Jupyter Notebook environment and previously unregistered\n",
       "  if (root.Jupyter !== undefined) {\n",
       "    var events = require('base/js/events');\n",
       "    var OutputArea = require('notebook/js/outputarea').OutputArea;\n",
       "\n",
       "    if (OutputArea.prototype.mime_types().indexOf(EXEC_MIME_TYPE) == -1) {\n",
       "      register_renderer(events, OutputArea);\n",
       "    }\n",
       "  }\n",
       "\n",
       "  \n",
       "  if (typeof (root._bokeh_timeout) === \"undefined\" || force === true) {\n",
       "    root._bokeh_timeout = Date.now() + 5000;\n",
       "    root._bokeh_failed_load = false;\n",
       "  }\n",
       "\n",
       "  var NB_LOAD_WARNING = {'data': {'text/html':\n",
       "     \"<div style='background-color: #fdd'>\\n\"+\n",
       "     \"<p>\\n\"+\n",
       "     \"BokehJS does not appear to have successfully loaded. If loading BokehJS from CDN, this \\n\"+\n",
       "     \"may be due to a slow or bad network connection. Possible fixes:\\n\"+\n",
       "     \"</p>\\n\"+\n",
       "     \"<ul>\\n\"+\n",
       "     \"<li>re-rerun `output_notebook()` to attempt to load from CDN again, or</li>\\n\"+\n",
       "     \"<li>use INLINE resources instead, as so:</li>\\n\"+\n",
       "     \"</ul>\\n\"+\n",
       "     \"<code>\\n\"+\n",
       "     \"from bokeh.resources import INLINE\\n\"+\n",
       "     \"output_notebook(resources=INLINE)\\n\"+\n",
       "     \"</code>\\n\"+\n",
       "     \"</div>\"}};\n",
       "\n",
       "  function display_loaded() {\n",
       "    var el = document.getElementById(\"2054\");\n",
       "    if (el != null) {\n",
       "      el.textContent = \"BokehJS is loading...\";\n",
       "    }\n",
       "    if (root.Bokeh !== undefined) {\n",
       "      if (el != null) {\n",
       "        el.textContent = \"BokehJS \" + root.Bokeh.version + \" successfully loaded.\";\n",
       "      }\n",
       "    } else if (Date.now() < root._bokeh_timeout) {\n",
       "      setTimeout(display_loaded, 100)\n",
       "    }\n",
       "  }\n",
       "\n",
       "\n",
       "  function run_callbacks() {\n",
       "    try {\n",
       "      root._bokeh_onload_callbacks.forEach(function(callback) {\n",
       "        if (callback != null)\n",
       "          callback();\n",
       "      });\n",
       "    } finally {\n",
       "      delete root._bokeh_onload_callbacks\n",
       "    }\n",
       "    console.debug(\"Bokeh: all callbacks have finished\");\n",
       "  }\n",
       "\n",
       "  function load_libs(css_urls, js_urls, callback) {\n",
       "    if (css_urls == null) css_urls = [];\n",
       "    if (js_urls == null) js_urls = [];\n",
       "\n",
       "    root._bokeh_onload_callbacks.push(callback);\n",
       "    if (root._bokeh_is_loading > 0) {\n",
       "      console.debug(\"Bokeh: BokehJS is being loaded, scheduling callback at\", now());\n",
       "      return null;\n",
       "    }\n",
       "    if (js_urls == null || js_urls.length === 0) {\n",
       "      run_callbacks();\n",
       "      return null;\n",
       "    }\n",
       "    console.debug(\"Bokeh: BokehJS not loaded, scheduling load and callback at\", now());\n",
       "    root._bokeh_is_loading = css_urls.length + js_urls.length;\n",
       "\n",
       "    function on_load() {\n",
       "      root._bokeh_is_loading--;\n",
       "      if (root._bokeh_is_loading === 0) {\n",
       "        console.debug(\"Bokeh: all BokehJS libraries/stylesheets loaded\");\n",
       "        run_callbacks()\n",
       "      }\n",
       "    }\n",
       "\n",
       "    function on_error() {\n",
       "      console.error(\"failed to load \" + url);\n",
       "    }\n",
       "\n",
       "    for (var i = 0; i < css_urls.length; i++) {\n",
       "      var url = css_urls[i];\n",
       "      const element = document.createElement(\"link\");\n",
       "      element.onload = on_load;\n",
       "      element.onerror = on_error;\n",
       "      element.rel = \"stylesheet\";\n",
       "      element.type = \"text/css\";\n",
       "      element.href = url;\n",
       "      console.debug(\"Bokeh: injecting link tag for BokehJS stylesheet: \", url);\n",
       "      document.body.appendChild(element);\n",
       "    }\n",
       "\n",
       "    for (var i = 0; i < js_urls.length; i++) {\n",
       "      var url = js_urls[i];\n",
       "      var element = document.createElement('script');\n",
       "      element.onload = on_load;\n",
       "      element.onerror = on_error;\n",
       "      element.async = false;\n",
       "      element.src = url;\n",
       "      \n",
       "      console.debug(\"Bokeh: injecting script tag for BokehJS library: \", url);\n",
       "      document.head.appendChild(element);\n",
       "    }\n",
       "  };var element = document.getElementById(\"2054\");\n",
       "  if (element == null) {\n",
       "    console.error(\"Bokeh: ERROR: autoload.js configured with elementid '2054' but no matching script tag was found. \")\n",
       "    return false;\n",
       "  }\n",
       "\n",
       "  function inject_raw_css(css) {\n",
       "    const element = document.createElement(\"style\");\n",
       "    element.appendChild(document.createTextNode(css));\n",
       "    document.body.appendChild(element);\n",
       "  }\n",
       "\n",
       "  \n",
       "  var js_urls = [\"https://cdn.bokeh.org/bokeh/release/bokeh-2.0.0.min.js\", \"https://cdn.bokeh.org/bokeh/release/bokeh-widgets-2.0.0.min.js\", \"https://cdn.bokeh.org/bokeh/release/bokeh-tables-2.0.0.min.js\", \"https://cdn.bokeh.org/bokeh/release/bokeh-gl-2.0.0.min.js\"];\n",
       "  var css_urls = [];\n",
       "  \n",
       "\n",
       "  var inline_js = [\n",
       "    function(Bokeh) {\n",
       "      Bokeh.set_log_level(\"info\");\n",
       "    },\n",
       "    function(Bokeh) {\n",
       "    \n",
       "    \n",
       "    }\n",
       "  ];\n",
       "\n",
       "  function run_inline_js() {\n",
       "    \n",
       "    if (root.Bokeh !== undefined || force === true) {\n",
       "      \n",
       "    for (var i = 0; i < inline_js.length; i++) {\n",
       "      inline_js[i].call(root, root.Bokeh);\n",
       "    }\n",
       "    if (force === true) {\n",
       "        display_loaded();\n",
       "      }} else if (Date.now() < root._bokeh_timeout) {\n",
       "      setTimeout(run_inline_js, 100);\n",
       "    } else if (!root._bokeh_failed_load) {\n",
       "      console.log(\"Bokeh: BokehJS failed to load within specified timeout.\");\n",
       "      root._bokeh_failed_load = true;\n",
       "    } else if (force !== true) {\n",
       "      var cell = $(document.getElementById(\"2054\")).parents('.cell').data().cell;\n",
       "      cell.output_area.append_execute_result(NB_LOAD_WARNING)\n",
       "    }\n",
       "\n",
       "  }\n",
       "\n",
       "  if (root._bokeh_is_loading === 0) {\n",
       "    console.debug(\"Bokeh: BokehJS loaded, going straight to plotting\");\n",
       "    run_inline_js();\n",
       "  } else {\n",
       "    load_libs(css_urls, js_urls, function() {\n",
       "      console.debug(\"Bokeh: BokehJS plotting callback run at\", now());\n",
       "      run_inline_js();\n",
       "    });\n",
       "  }\n",
       "}(window));"
      ],
      "application/vnd.bokehjs_load.v0+json": "\n(function(root) {\n  function now() {\n    return new Date();\n  }\n\n  var force = true;\n\n  if (typeof root._bokeh_onload_callbacks === \"undefined\" || force === true) {\n    root._bokeh_onload_callbacks = [];\n    root._bokeh_is_loading = undefined;\n  }\n\n  \n\n  \n  if (typeof (root._bokeh_timeout) === \"undefined\" || force === true) {\n    root._bokeh_timeout = Date.now() + 5000;\n    root._bokeh_failed_load = false;\n  }\n\n  var NB_LOAD_WARNING = {'data': {'text/html':\n     \"<div style='background-color: #fdd'>\\n\"+\n     \"<p>\\n\"+\n     \"BokehJS does not appear to have successfully loaded. If loading BokehJS from CDN, this \\n\"+\n     \"may be due to a slow or bad network connection. Possible fixes:\\n\"+\n     \"</p>\\n\"+\n     \"<ul>\\n\"+\n     \"<li>re-rerun `output_notebook()` to attempt to load from CDN again, or</li>\\n\"+\n     \"<li>use INLINE resources instead, as so:</li>\\n\"+\n     \"</ul>\\n\"+\n     \"<code>\\n\"+\n     \"from bokeh.resources import INLINE\\n\"+\n     \"output_notebook(resources=INLINE)\\n\"+\n     \"</code>\\n\"+\n     \"</div>\"}};\n\n  function display_loaded() {\n    var el = document.getElementById(\"2054\");\n    if (el != null) {\n      el.textContent = \"BokehJS is loading...\";\n    }\n    if (root.Bokeh !== undefined) {\n      if (el != null) {\n        el.textContent = \"BokehJS \" + root.Bokeh.version + \" successfully loaded.\";\n      }\n    } else if (Date.now() < root._bokeh_timeout) {\n      setTimeout(display_loaded, 100)\n    }\n  }\n\n\n  function run_callbacks() {\n    try {\n      root._bokeh_onload_callbacks.forEach(function(callback) {\n        if (callback != null)\n          callback();\n      });\n    } finally {\n      delete root._bokeh_onload_callbacks\n    }\n    console.debug(\"Bokeh: all callbacks have finished\");\n  }\n\n  function load_libs(css_urls, js_urls, callback) {\n    if (css_urls == null) css_urls = [];\n    if (js_urls == null) js_urls = [];\n\n    root._bokeh_onload_callbacks.push(callback);\n    if (root._bokeh_is_loading > 0) {\n      console.debug(\"Bokeh: BokehJS is being loaded, scheduling callback at\", now());\n      return null;\n    }\n    if (js_urls == null || js_urls.length === 0) {\n      run_callbacks();\n      return null;\n    }\n    console.debug(\"Bokeh: BokehJS not loaded, scheduling load and callback at\", now());\n    root._bokeh_is_loading = css_urls.length + js_urls.length;\n\n    function on_load() {\n      root._bokeh_is_loading--;\n      if (root._bokeh_is_loading === 0) {\n        console.debug(\"Bokeh: all BokehJS libraries/stylesheets loaded\");\n        run_callbacks()\n      }\n    }\n\n    function on_error() {\n      console.error(\"failed to load \" + url);\n    }\n\n    for (var i = 0; i < css_urls.length; i++) {\n      var url = css_urls[i];\n      const element = document.createElement(\"link\");\n      element.onload = on_load;\n      element.onerror = on_error;\n      element.rel = \"stylesheet\";\n      element.type = \"text/css\";\n      element.href = url;\n      console.debug(\"Bokeh: injecting link tag for BokehJS stylesheet: \", url);\n      document.body.appendChild(element);\n    }\n\n    for (var i = 0; i < js_urls.length; i++) {\n      var url = js_urls[i];\n      var element = document.createElement('script');\n      element.onload = on_load;\n      element.onerror = on_error;\n      element.async = false;\n      element.src = url;\n      \n      console.debug(\"Bokeh: injecting script tag for BokehJS library: \", url);\n      document.head.appendChild(element);\n    }\n  };var element = document.getElementById(\"2054\");\n  if (element == null) {\n    console.error(\"Bokeh: ERROR: autoload.js configured with elementid '2054' but no matching script tag was found. \")\n    return false;\n  }\n\n  function inject_raw_css(css) {\n    const element = document.createElement(\"style\");\n    element.appendChild(document.createTextNode(css));\n    document.body.appendChild(element);\n  }\n\n  \n  var js_urls = [\"https://cdn.bokeh.org/bokeh/release/bokeh-2.0.0.min.js\", \"https://cdn.bokeh.org/bokeh/release/bokeh-widgets-2.0.0.min.js\", \"https://cdn.bokeh.org/bokeh/release/bokeh-tables-2.0.0.min.js\", \"https://cdn.bokeh.org/bokeh/release/bokeh-gl-2.0.0.min.js\"];\n  var css_urls = [];\n  \n\n  var inline_js = [\n    function(Bokeh) {\n      Bokeh.set_log_level(\"info\");\n    },\n    function(Bokeh) {\n    \n    \n    }\n  ];\n\n  function run_inline_js() {\n    \n    if (root.Bokeh !== undefined || force === true) {\n      \n    for (var i = 0; i < inline_js.length; i++) {\n      inline_js[i].call(root, root.Bokeh);\n    }\n    if (force === true) {\n        display_loaded();\n      }} else if (Date.now() < root._bokeh_timeout) {\n      setTimeout(run_inline_js, 100);\n    } else if (!root._bokeh_failed_load) {\n      console.log(\"Bokeh: BokehJS failed to load within specified timeout.\");\n      root._bokeh_failed_load = true;\n    } else if (force !== true) {\n      var cell = $(document.getElementById(\"2054\")).parents('.cell').data().cell;\n      cell.output_area.append_execute_result(NB_LOAD_WARNING)\n    }\n\n  }\n\n  if (root._bokeh_is_loading === 0) {\n    console.debug(\"Bokeh: BokehJS loaded, going straight to plotting\");\n    run_inline_js();\n  } else {\n    load_libs(css_urls, js_urls, function() {\n      console.debug(\"Bokeh: BokehJS plotting callback run at\", now());\n      run_inline_js();\n    });\n  }\n}(window));"
     },
     "metadata": {},
     "output_type": "display_data"
    }
   ],
   "source": [
    "import pandas as pd\n",
    "import matplotlib.pyplot as plt\n",
    "#para embeber videos de yt\n",
    "from IPython.display import YouTubeVideo\n",
    "from bokeh.plotting import figure, output_notebook, show\n",
    "# activamos boke\n",
    "output_notebook()\n"
   ]
  },
  {
   "cell_type": "markdown",
   "metadata": {},
   "source": [
    "### Realizamos la medicion de la velocidad de rodadura\n",
    "\n"
   ]
  },
  {
   "cell_type": "code",
   "execution_count": 25,
   "metadata": {},
   "outputs": [
    {
     "data": {
      "image/jpeg": "[encoded data removed]",
      "text/html": [
       "\n",
       "        <iframe\n",
       "            width=\"848\"\n",
       "            height=\"480\"\n",
       "            src=\"https://www.youtube.com/embed/gPq4Le9kXWE\"\n",
       "            frameborder=\"0\"\n",
       "            allowfullscreen\n",
       "        ></iframe>\n",
       "        "
      ],
      "text/plain": [
       "<IPython.lib.display.YouTubeVideo at 0x206724f6688>"
      ]
     },
     "execution_count": 25,
     "metadata": {},
     "output_type": "execute_result"
    }
   ],
   "source": [
    "YouTubeVideo('gPq4Le9kXWE',  width=848, height=480)"
   ]
  },
  {
   "cell_type": "markdown",
   "metadata": {},
   "source": [
    "<img src=\"1.jpeg\" alt=\"drawing\" width=\"600\"/>\n",
    "\n",
    "<img src=\"2.jpeg\" alt=\"drawing\" width=\"600\"/>\n",
    "\n",
    "<img src=\"3.jpeg\" alt=\"drawing\" width=\"600\"/>"
   ]
  },
  {
   "cell_type": "code",
   "execution_count": 59,
   "metadata": {},
   "outputs": [
    {
     "data": {
      "text/html": [
       "<video width=\"800\"  controls>\n",
       "  <source src=\"video.mp4\" type=\"video/mp4\">\n",
       "</video>\n"
      ],
      "text/plain": [
       "<IPython.core.display.HTML object>"
      ]
     },
     "metadata": {},
     "output_type": "display_data"
    }
   ],
   "source": [
    "%%HTML\n",
    "<video width=\"800\"  controls>\n",
    "  <source src=\"video.mp4\" type=\"video/mp4\">\n",
    "</video>"
   ]
  },
  {
   "cell_type": "markdown",
   "metadata": {},
   "source": [
    "Una vez que exportamos los datos ('.csv') desde la pagina o desde el celular, los levantamos con pandas. Son 3 columnas:\n",
    "\n",
    "```\n",
    "\"Time (s)\",\"Velocity (m/s)\",\"Gyroscope y (rad/s)\"\n",
    "3.293477158E0,6.081997226E-3,1.105817677E-1\n",
    "3.334124432E0,1.453178740E-2,2.642143164E-1\n",
    "3.374782491E0,2.349394089E-2,4.271625616E-1\n",
    "``` \n",
    "\n",
    "con **names** le pongo el nombre que yo quiera a las columnas\n",
    "\n",
    "y con **header** saco las filas que no son datos"
   ]
  },
  {
   "cell_type": "code",
   "execution_count": 26,
   "metadata": {},
   "outputs": [
    {
     "data": {
      "text/html": [
       "<div>\n",
       "<style scoped>\n",
       "    .dataframe tbody tr th:only-of-type {\n",
       "        vertical-align: middle;\n",
       "    }\n",
       "\n",
       "    .dataframe tbody tr th {\n",
       "        vertical-align: top;\n",
       "    }\n",
       "\n",
       "    .dataframe thead th {\n",
       "        text-align: right;\n",
       "    }\n",
       "</style>\n",
       "<table border=\"1\" class=\"dataframe\">\n",
       "  <thead>\n",
       "    <tr style=\"text-align: right;\">\n",
       "      <th></th>\n",
       "      <th>t</th>\n",
       "      <th>v</th>\n",
       "      <th>rad</th>\n",
       "    </tr>\n",
       "  </thead>\n",
       "  <tbody>\n",
       "    <tr>\n",
       "      <th>0</th>\n",
       "      <td>3.293477</td>\n",
       "      <td>0.006082</td>\n",
       "      <td>0.110582</td>\n",
       "    </tr>\n",
       "    <tr>\n",
       "      <th>1</th>\n",
       "      <td>3.334124</td>\n",
       "      <td>0.014532</td>\n",
       "      <td>0.264214</td>\n",
       "    </tr>\n",
       "    <tr>\n",
       "      <th>2</th>\n",
       "      <td>3.374782</td>\n",
       "      <td>0.023494</td>\n",
       "      <td>0.427163</td>\n",
       "    </tr>\n",
       "    <tr>\n",
       "      <th>3</th>\n",
       "      <td>3.415448</td>\n",
       "      <td>0.024561</td>\n",
       "      <td>0.446558</td>\n",
       "    </tr>\n",
       "    <tr>\n",
       "      <th>4</th>\n",
       "      <td>3.456109</td>\n",
       "      <td>0.027299</td>\n",
       "      <td>0.496343</td>\n",
       "    </tr>\n",
       "    <tr>\n",
       "      <th>...</th>\n",
       "      <td>...</td>\n",
       "      <td>...</td>\n",
       "      <td>...</td>\n",
       "    </tr>\n",
       "    <tr>\n",
       "      <th>495</th>\n",
       "      <td>23.420504</td>\n",
       "      <td>-0.000004</td>\n",
       "      <td>-0.000069</td>\n",
       "    </tr>\n",
       "    <tr>\n",
       "      <th>496</th>\n",
       "      <td>23.461167</td>\n",
       "      <td>0.000013</td>\n",
       "      <td>0.000236</td>\n",
       "    </tr>\n",
       "    <tr>\n",
       "      <th>497</th>\n",
       "      <td>23.501827</td>\n",
       "      <td>-0.000004</td>\n",
       "      <td>-0.000069</td>\n",
       "    </tr>\n",
       "    <tr>\n",
       "      <th>498</th>\n",
       "      <td>23.542483</td>\n",
       "      <td>0.000038</td>\n",
       "      <td>0.000694</td>\n",
       "    </tr>\n",
       "    <tr>\n",
       "      <th>499</th>\n",
       "      <td>23.583143</td>\n",
       "      <td>-0.000004</td>\n",
       "      <td>-0.000069</td>\n",
       "    </tr>\n",
       "  </tbody>\n",
       "</table>\n",
       "<p>500 rows × 3 columns</p>\n",
       "</div>"
      ],
      "text/plain": [
       "             t         v       rad\n",
       "0     3.293477  0.006082  0.110582\n",
       "1     3.334124  0.014532  0.264214\n",
       "2     3.374782  0.023494  0.427163\n",
       "3     3.415448  0.024561  0.446558\n",
       "4     3.456109  0.027299  0.496343\n",
       "..         ...       ...       ...\n",
       "495  23.420504 -0.000004 -0.000069\n",
       "496  23.461167  0.000013  0.000236\n",
       "497  23.501827 -0.000004 -0.000069\n",
       "498  23.542483  0.000038  0.000694\n",
       "499  23.583143 -0.000004 -0.000069\n",
       "\n",
       "[500 rows x 3 columns]"
      ]
     },
     "execution_count": 26,
     "metadata": {},
     "output_type": "execute_result"
    }
   ],
   "source": [
    "rdata=pd.read_csv('v2.csv',names=['t','v','rad'],header=0)\n",
    "rdata"
   ]
  },
  {
   "cell_type": "code",
   "execution_count": 61,
   "metadata": {},
   "outputs": [
    {
     "data": {
      "text/html": [
       "\n",
       "\n",
       "\n",
       "\n",
       "\n",
       "\n",
       "  <div class=\"bk-root\" id=\"b47d7e1d-d97c-4eca-b345-214e787a04e8\" data-root-id=\"4033\"></div>\n"
      ]
     },
     "metadata": {},
     "output_type": "display_data"
    },
    {
     "data": {
      "application/javascript": [
       "(function(root) {\n",
       "  function embed_document(root) {\n",
       "    \n",
       "  var docs_json = {\"4cf82b37-6062-42bc-8e3f-918c2ea1aa80\":{\"roots\":{\"references\":[{\"attributes\":{\"below\":[{\"id\":\"4042\"}],\"center\":[{\"id\":\"4045\"},{\"id\":\"4049\"}],\"left\":[{\"id\":\"4046\"}],\"plot_height\":500,\"plot_width\":1200,\"renderers\":[{\"id\":\"4066\"},{\"id\":\"4071\"}],\"title\":{\"id\":\"4237\"},\"toolbar\":{\"id\":\"4056\"},\"x_range\":{\"id\":\"4034\"},\"x_scale\":{\"id\":\"4038\"},\"y_range\":{\"id\":\"4036\"},\"y_scale\":{\"id\":\"4040\"}},\"id\":\"4033\",\"subtype\":\"Figure\",\"type\":\"Plot\"},{\"attributes\":{\"line_alpha\":0.1,\"line_color\":\"#1f77b4\",\"x\":{\"field\":\"x\"},\"y\":{\"field\":\"y\"}},\"id\":\"4070\",\"type\":\"Line\"},{\"attributes\":{},\"id\":\"4053\",\"type\":\"SaveTool\"},{\"attributes\":{},\"id\":\"4242\",\"type\":\"Selection\"},{\"attributes\":{},\"id\":\"4036\",\"type\":\"DataRange1d\"},{\"attributes\":{\"axis\":{\"id\":\"4042\"},\"ticker\":null},\"id\":\"4045\",\"type\":\"Grid\"},{\"attributes\":{},\"id\":\"4241\",\"type\":\"BasicTickFormatter\"},{\"attributes\":{\"active_drag\":\"auto\",\"active_inspect\":\"auto\",\"active_multi\":null,\"active_scroll\":\"auto\",\"active_tap\":\"auto\",\"tools\":[{\"id\":\"4050\"},{\"id\":\"4051\"},{\"id\":\"4052\"},{\"id\":\"4053\"},{\"id\":\"4054\"},{\"id\":\"4055\"}]},\"id\":\"4056\",\"type\":\"Toolbar\"},{\"attributes\":{\"data_source\":{\"id\":\"4068\"},\"glyph\":{\"id\":\"4069\"},\"hover_glyph\":null,\"muted_glyph\":null,\"nonselection_glyph\":{\"id\":\"4070\"},\"selection_glyph\":null,\"view\":{\"id\":\"4072\"}},\"id\":\"4071\",\"type\":\"GlyphRenderer\"},{\"attributes\":{\"fill_color\":{\"value\":\"#1f77b4\"},\"line_color\":{\"value\":\"#1f77b4\"},\"x\":{\"field\":\"x\"},\"y\":{\"field\":\"y\"}},\"id\":\"4064\",\"type\":\"Scatter\"},{\"attributes\":{\"fill_alpha\":{\"value\":0.1},\"fill_color\":{\"value\":\"#1f77b4\"},\"line_alpha\":{\"value\":0.1},\"line_color\":{\"value\":\"#1f77b4\"},\"x\":{\"field\":\"x\"},\"y\":{\"field\":\"y\"}},\"id\":\"4065\",\"type\":\"Scatter\"},{\"attributes\":{\"source\":{\"id\":\"4068\"}},\"id\":\"4072\",\"type\":\"CDSView\"},{\"attributes\":{},\"id\":\"4243\",\"type\":\"UnionRenderers\"},{\"attributes\":{},\"id\":\"4054\",\"type\":\"ResetTool\"},{\"attributes\":{},\"id\":\"4055\",\"type\":\"HelpTool\"},{\"attributes\":{},\"id\":\"4043\",\"type\":\"BasicTicker\"},{\"attributes\":{},\"id\":\"4239\",\"type\":\"BasicTickFormatter\"},{\"attributes\":{},\"id\":\"4038\",\"type\":\"LinearScale\"},{\"attributes\":{\"source\":{\"id\":\"4063\"}},\"id\":\"4067\",\"type\":\"CDSView\"},{\"attributes\":{\"data\":{\"x\":{\"__ndarray__\":\"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\",\"dtype\":\"float64\",\"shape\":[500]},\"y\":{\"__ndarray__\":\"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\",\"dtype\":\"float64\",\"shape\":[500]}},\"selected\":{\"id\":\"4244\"},\"selection_policy\":{\"id\":\"4245\"}},\"id\":\"4068\",\"type\":\"ColumnDataSource\"},{\"attributes\":{},\"id\":\"4051\",\"type\":\"WheelZoomTool\"},{\"attributes\":{},\"id\":\"4245\",\"type\":\"UnionRenderers\"},{\"attributes\":{\"bottom_units\":\"screen\",\"fill_alpha\":0.5,\"fill_color\":\"lightgrey\",\"left_units\":\"screen\",\"level\":\"overlay\",\"line_alpha\":1.0,\"line_color\":\"black\",\"line_dash\":[4,4],\"line_width\":2,\"render_mode\":\"css\",\"right_units\":\"screen\",\"top_units\":\"screen\"},\"id\":\"4246\",\"type\":\"BoxAnnotation\"},{\"attributes\":{\"formatter\":{\"id\":\"4241\"},\"ticker\":{\"id\":\"4047\"}},\"id\":\"4046\",\"type\":\"LinearAxis\"},{\"attributes\":{\"axis\":{\"id\":\"4046\"},\"dimension\":1,\"ticker\":null},\"id\":\"4049\",\"type\":\"Grid\"},{\"attributes\":{\"overlay\":{\"id\":\"4246\"}},\"id\":\"4052\",\"type\":\"BoxZoomTool\"},{\"attributes\":{},\"id\":\"4040\",\"type\":\"LinearScale\"},{\"attributes\":{\"line_color\":\"#1f77b4\",\"x\":{\"field\":\"x\"},\"y\":{\"field\":\"y\"}},\"id\":\"4069\",\"type\":\"Line\"},{\"attributes\":{\"text\":\"\"},\"id\":\"4237\",\"type\":\"Title\"},{\"attributes\":{\"data_source\":{\"id\":\"4063\"},\"glyph\":{\"id\":\"4064\"},\"hover_glyph\":null,\"muted_glyph\":null,\"nonselection_glyph\":{\"id\":\"4065\"},\"selection_glyph\":null,\"view\":{\"id\":\"4067\"}},\"id\":\"4066\",\"type\":\"GlyphRenderer\"},{\"attributes\":{},\"id\":\"4034\",\"type\":\"DataRange1d\"},{\"attributes\":{\"formatter\":{\"id\":\"4239\"},\"ticker\":{\"id\":\"4043\"}},\"id\":\"4042\",\"type\":\"LinearAxis\"},{\"attributes\":{},\"id\":\"4244\",\"type\":\"Selection\"},{\"attributes\":{\"data\":{\"x\":{\"__ndarray__\":\"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\",\"dtype\":\"float64\",\"shape\":[500]},\"y\":{\"__ndarray__\":\"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\",\"dtype\":\"float64\",\"shape\":[500]}},\"selected\":{\"id\":\"4242\"},\"selection_policy\":{\"id\":\"4243\"}},\"id\":\"4063\",\"type\":\"ColumnDataSource\"},{\"attributes\":{},\"id\":\"4047\",\"type\":\"BasicTicker\"},{\"attributes\":{},\"id\":\"4050\",\"type\":\"PanTool\"}],\"root_ids\":[\"4033\"]},\"title\":\"Bokeh Application\",\"version\":\"2.0.0\"}};\n",
       "  var render_items = [{\"docid\":\"4cf82b37-6062-42bc-8e3f-918c2ea1aa80\",\"root_ids\":[\"4033\"],\"roots\":{\"4033\":\"b47d7e1d-d97c-4eca-b345-214e787a04e8\"}}];\n",
       "  root.Bokeh.embed.embed_items_notebook(docs_json, render_items);\n",
       "\n",
       "  }\n",
       "  if (root.Bokeh !== undefined) {\n",
       "    embed_document(root);\n",
       "  } else {\n",
       "    var attempts = 0;\n",
       "    var timer = setInterval(function(root) {\n",
       "      if (root.Bokeh !== undefined) {\n",
       "        clearInterval(timer);\n",
       "        embed_document(root);\n",
       "      } else {\n",
       "        attempts++;\n",
       "        if (attempts > 100) {\n",
       "          clearInterval(timer);\n",
       "          console.log(\"Bokeh: ERROR: Unable to run BokehJS code because BokehJS library is missing\");\n",
       "        }\n",
       "      }\n",
       "    }, 10, root)\n",
       "  }\n",
       "})(window);"
      ],
      "application/vnd.bokehjs_exec.v0+json": ""
     },
     "metadata": {
      "application/vnd.bokehjs_exec.v0+json": {
       "id": "4033"
      }
     },
     "output_type": "display_data"
    }
   ],
   "source": [
    "# creamos la instancia figura\n",
    "p = figure(plot_width=1200, plot_height=500)\n",
    "\n",
    "# y añadimos los graficos que necesitemos, aca uno solo\n",
    "p.scatter(rdata.t,rdata.v)\n",
    "p.line(rdata.t,rdata.v)\n",
    "\n",
    "\n",
    "# mostramos la figura con todos los graficos\n",
    "show(p)"
   ]
  },
  {
   "cell_type": "markdown",
   "metadata": {},
   "source": [
    "### No podriamos hacer algo para sacarnos el ruido?"
   ]
  },
  {
   "cell_type": "code",
   "execution_count": 60,
   "metadata": {},
   "outputs": [
    {
     "data": {
      "text/html": [
       "\n",
       "\n",
       "\n",
       "\n",
       "\n",
       "\n",
       "  <div class=\"bk-root\" id=\"49cd42aa-618f-4faf-b8f8-4e9612b17ffb\" data-root-id=\"3764\"></div>\n"
      ]
     },
     "metadata": {},
     "output_type": "display_data"
    },
    {
     "data": {
      "application/javascript": [
       "(function(root) {\n",
       "  function embed_document(root) {\n",
       "    \n",
       "  var docs_json = {\"030fa971-1e77-4c2c-ac42-7bee12b8bae1\":{\"roots\":{\"references\":[{\"attributes\":{\"below\":[{\"id\":\"3773\"}],\"center\":[{\"id\":\"3776\"},{\"id\":\"3780\"}],\"left\":[{\"id\":\"3777\"}],\"plot_height\":500,\"plot_width\":1200,\"renderers\":[{\"id\":\"3797\"},{\"id\":\"3802\"}],\"title\":{\"id\":\"3957\"},\"toolbar\":{\"id\":\"3787\"},\"x_range\":{\"id\":\"3765\"},\"x_scale\":{\"id\":\"3769\"},\"y_range\":{\"id\":\"3767\"},\"y_scale\":{\"id\":\"3771\"}},\"id\":\"3764\",\"subtype\":\"Figure\",\"type\":\"Plot\"},{\"attributes\":{\"active_drag\":\"auto\",\"active_inspect\":\"auto\",\"active_multi\":null,\"active_scroll\":\"auto\",\"active_tap\":\"auto\",\"tools\":[{\"id\":\"3781\"},{\"id\":\"3782\"},{\"id\":\"3783\"},{\"id\":\"3784\"},{\"id\":\"3785\"},{\"id\":\"3786\"}]},\"id\":\"3787\",\"type\":\"Toolbar\"},{\"attributes\":{\"data\":{\"x\":{\"__ndarray__\":\"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\",\"dtype\":\"float64\",\"shape\":[500]},\"y\":{\"__ndarray__\":\"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\",\"dtype\":\"float64\",\"shape\":[500]}},\"selected\":{\"id\":\"3962\"},\"selection_policy\":{\"id\":\"3963\"}},\"id\":\"3794\",\"type\":\"ColumnDataSource\"},{\"attributes\":{\"source\":{\"id\":\"3799\"}},\"id\":\"3803\",\"type\":\"CDSView\"},{\"attributes\":{},\"id\":\"3767\",\"type\":\"DataRange1d\"},{\"attributes\":{\"formatter\":{\"id\":\"3959\"},\"ticker\":{\"id\":\"3774\"}},\"id\":\"3773\",\"type\":\"LinearAxis\"},{\"attributes\":{\"data\":{\"x\":{\"__ndarray__\":\"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\",\"dtype\":\"float64\",\"shape\":[500]},\"y\":{\"__ndarray__\":\"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\",\"dtype\":\"float64\",\"shape\":[500]}},\"selected\":{\"id\":\"3964\"},\"selection_policy\":{\"id\":\"3965\"}},\"id\":\"3799\",\"type\":\"ColumnDataSource\"},{\"attributes\":{\"bottom_units\":\"screen\",\"fill_alpha\":0.5,\"fill_color\":\"lightgrey\",\"left_units\":\"screen\",\"level\":\"overlay\",\"line_alpha\":1.0,\"line_color\":\"black\",\"line_dash\":[4,4],\"line_width\":2,\"render_mode\":\"css\",\"right_units\":\"screen\",\"top_units\":\"screen\"},\"id\":\"3966\",\"type\":\"BoxAnnotation\"},{\"attributes\":{\"fill_color\":{\"value\":\"#1f77b4\"},\"line_color\":{\"value\":\"#1f77b4\"},\"x\":{\"field\":\"x\"},\"y\":{\"field\":\"y\"}},\"id\":\"3795\",\"type\":\"Scatter\"},{\"attributes\":{\"data_source\":{\"id\":\"3799\"},\"glyph\":{\"id\":\"3800\"},\"hover_glyph\":null,\"muted_glyph\":null,\"nonselection_glyph\":{\"id\":\"3801\"},\"selection_glyph\":null,\"view\":{\"id\":\"3803\"}},\"id\":\"3802\",\"type\":\"GlyphRenderer\"},{\"attributes\":{},\"id\":\"3771\",\"type\":\"LinearScale\"},{\"attributes\":{\"text\":\"\"},\"id\":\"3957\",\"type\":\"Title\"},{\"attributes\":{},\"id\":\"3785\",\"type\":\"ResetTool\"},{\"attributes\":{},\"id\":\"3959\",\"type\":\"BasicTickFormatter\"},{\"attributes\":{},\"id\":\"3964\",\"type\":\"Selection\"},{\"attributes\":{\"fill_alpha\":{\"value\":0.1},\"fill_color\":{\"value\":\"#1f77b4\"},\"line_alpha\":{\"value\":0.1},\"line_color\":{\"value\":\"#1f77b4\"},\"x\":{\"field\":\"x\"},\"y\":{\"field\":\"y\"}},\"id\":\"3796\",\"type\":\"Scatter\"},{\"attributes\":{\"formatter\":{\"id\":\"3961\"},\"ticker\":{\"id\":\"3778\"}},\"id\":\"3777\",\"type\":\"LinearAxis\"},{\"attributes\":{},\"id\":\"3962\",\"type\":\"Selection\"},{\"attributes\":{},\"id\":\"3784\",\"type\":\"SaveTool\"},{\"attributes\":{},\"id\":\"3963\",\"type\":\"UnionRenderers\"},{\"attributes\":{},\"id\":\"3765\",\"type\":\"DataRange1d\"},{\"attributes\":{},\"id\":\"3778\",\"type\":\"BasicTicker\"},{\"attributes\":{},\"id\":\"3965\",\"type\":\"UnionRenderers\"},{\"attributes\":{\"data_source\":{\"id\":\"3794\"},\"glyph\":{\"id\":\"3795\"},\"hover_glyph\":null,\"muted_glyph\":null,\"nonselection_glyph\":{\"id\":\"3796\"},\"selection_glyph\":null,\"view\":{\"id\":\"3798\"}},\"id\":\"3797\",\"type\":\"GlyphRenderer\"},{\"attributes\":{\"line_color\":\"red\",\"x\":{\"field\":\"x\"},\"y\":{\"field\":\"y\"}},\"id\":\"3800\",\"type\":\"Line\"},{\"attributes\":{\"source\":{\"id\":\"3794\"}},\"id\":\"3798\",\"type\":\"CDSView\"},{\"attributes\":{\"line_alpha\":0.1,\"line_color\":\"red\",\"x\":{\"field\":\"x\"},\"y\":{\"field\":\"y\"}},\"id\":\"3801\",\"type\":\"Line\"},{\"attributes\":{},\"id\":\"3781\",\"type\":\"PanTool\"},{\"attributes\":{},\"id\":\"3961\",\"type\":\"BasicTickFormatter\"},{\"attributes\":{},\"id\":\"3769\",\"type\":\"LinearScale\"},{\"attributes\":{},\"id\":\"3774\",\"type\":\"BasicTicker\"},{\"attributes\":{},\"id\":\"3782\",\"type\":\"WheelZoomTool\"},{\"attributes\":{},\"id\":\"3786\",\"type\":\"HelpTool\"},{\"attributes\":{\"axis\":{\"id\":\"3777\"},\"dimension\":1,\"ticker\":null},\"id\":\"3780\",\"type\":\"Grid\"},{\"attributes\":{\"axis\":{\"id\":\"3773\"},\"ticker\":null},\"id\":\"3776\",\"type\":\"Grid\"},{\"attributes\":{\"overlay\":{\"id\":\"3966\"}},\"id\":\"3783\",\"type\":\"BoxZoomTool\"}],\"root_ids\":[\"3764\"]},\"title\":\"Bokeh Application\",\"version\":\"2.0.0\"}};\n",
       "  var render_items = [{\"docid\":\"030fa971-1e77-4c2c-ac42-7bee12b8bae1\",\"root_ids\":[\"3764\"],\"roots\":{\"3764\":\"49cd42aa-618f-4faf-b8f8-4e9612b17ffb\"}}];\n",
       "  root.Bokeh.embed.embed_items_notebook(docs_json, render_items);\n",
       "\n",
       "  }\n",
       "  if (root.Bokeh !== undefined) {\n",
       "    embed_document(root);\n",
       "  } else {\n",
       "    var attempts = 0;\n",
       "    var timer = setInterval(function(root) {\n",
       "      if (root.Bokeh !== undefined) {\n",
       "        clearInterval(timer);\n",
       "        embed_document(root);\n",
       "      } else {\n",
       "        attempts++;\n",
       "        if (attempts > 100) {\n",
       "          clearInterval(timer);\n",
       "          console.log(\"Bokeh: ERROR: Unable to run BokehJS code because BokehJS library is missing\");\n",
       "        }\n",
       "      }\n",
       "    }, 10, root)\n",
       "  }\n",
       "})(window);"
      ],
      "application/vnd.bokehjs_exec.v0+json": ""
     },
     "metadata": {
      "application/vnd.bokehjs_exec.v0+json": {
       "id": "3764"
      }
     },
     "output_type": "display_data"
    }
   ],
   "source": [
    "# creamos la instancia figura\n",
    "p = figure(plot_width=1200, plot_height=500)\n",
    "\n",
    "# y añadimos los graficos que necesitemos, aca uno solo\n",
    "p.scatter(rdata.t,rdata.v)\n",
    "\n",
    "# agrego una linea que promedia las mediciones\n",
    "\n",
    "p.line(rdata.t,rdata.v.rolling(window=20,center=True).mean(),color='red')\n",
    "\n",
    "# mostramos la figura con todos los graficos\n",
    "show(p)"
   ]
  },
  {
   "cell_type": "markdown",
   "metadata": {},
   "source": [
    "Puedo crear una nueva columna para analizar esos datos"
   ]
  },
  {
   "cell_type": "code",
   "execution_count": 38,
   "metadata": {},
   "outputs": [],
   "source": [
    "rdata['vp20']=rdata.v.rolling(window=20,center=True).mean()"
   ]
  },
  {
   "cell_type": "code",
   "execution_count": 39,
   "metadata": {},
   "outputs": [
    {
     "data": {
      "text/html": [
       "<div>\n",
       "<style scoped>\n",
       "    .dataframe tbody tr th:only-of-type {\n",
       "        vertical-align: middle;\n",
       "    }\n",
       "\n",
       "    .dataframe tbody tr th {\n",
       "        vertical-align: top;\n",
       "    }\n",
       "\n",
       "    .dataframe thead th {\n",
       "        text-align: right;\n",
       "    }\n",
       "</style>\n",
       "<table border=\"1\" class=\"dataframe\">\n",
       "  <thead>\n",
       "    <tr style=\"text-align: right;\">\n",
       "      <th></th>\n",
       "      <th>t</th>\n",
       "      <th>v</th>\n",
       "      <th>rad</th>\n",
       "      <th>vp20</th>\n",
       "    </tr>\n",
       "  </thead>\n",
       "  <tbody>\n",
       "    <tr>\n",
       "      <th>0</th>\n",
       "      <td>3.293477</td>\n",
       "      <td>0.006082</td>\n",
       "      <td>0.110582</td>\n",
       "      <td>NaN</td>\n",
       "    </tr>\n",
       "    <tr>\n",
       "      <th>1</th>\n",
       "      <td>3.334124</td>\n",
       "      <td>0.014532</td>\n",
       "      <td>0.264214</td>\n",
       "      <td>NaN</td>\n",
       "    </tr>\n",
       "    <tr>\n",
       "      <th>2</th>\n",
       "      <td>3.374782</td>\n",
       "      <td>0.023494</td>\n",
       "      <td>0.427163</td>\n",
       "      <td>NaN</td>\n",
       "    </tr>\n",
       "    <tr>\n",
       "      <th>3</th>\n",
       "      <td>3.415448</td>\n",
       "      <td>0.024561</td>\n",
       "      <td>0.446558</td>\n",
       "      <td>NaN</td>\n",
       "    </tr>\n",
       "    <tr>\n",
       "      <th>4</th>\n",
       "      <td>3.456109</td>\n",
       "      <td>0.027299</td>\n",
       "      <td>0.496343</td>\n",
       "      <td>NaN</td>\n",
       "    </tr>\n",
       "    <tr>\n",
       "      <th>...</th>\n",
       "      <td>...</td>\n",
       "      <td>...</td>\n",
       "      <td>...</td>\n",
       "      <td>...</td>\n",
       "    </tr>\n",
       "    <tr>\n",
       "      <th>495</th>\n",
       "      <td>23.420504</td>\n",
       "      <td>-0.000004</td>\n",
       "      <td>-0.000069</td>\n",
       "      <td>NaN</td>\n",
       "    </tr>\n",
       "    <tr>\n",
       "      <th>496</th>\n",
       "      <td>23.461167</td>\n",
       "      <td>0.000013</td>\n",
       "      <td>0.000236</td>\n",
       "      <td>NaN</td>\n",
       "    </tr>\n",
       "    <tr>\n",
       "      <th>497</th>\n",
       "      <td>23.501827</td>\n",
       "      <td>-0.000004</td>\n",
       "      <td>-0.000069</td>\n",
       "      <td>NaN</td>\n",
       "    </tr>\n",
       "    <tr>\n",
       "      <th>498</th>\n",
       "      <td>23.542483</td>\n",
       "      <td>0.000038</td>\n",
       "      <td>0.000694</td>\n",
       "      <td>NaN</td>\n",
       "    </tr>\n",
       "    <tr>\n",
       "      <th>499</th>\n",
       "      <td>23.583143</td>\n",
       "      <td>-0.000004</td>\n",
       "      <td>-0.000069</td>\n",
       "      <td>NaN</td>\n",
       "    </tr>\n",
       "  </tbody>\n",
       "</table>\n",
       "<p>500 rows × 4 columns</p>\n",
       "</div>"
      ],
      "text/plain": [
       "             t         v       rad  vp20\n",
       "0     3.293477  0.006082  0.110582   NaN\n",
       "1     3.334124  0.014532  0.264214   NaN\n",
       "2     3.374782  0.023494  0.427163   NaN\n",
       "3     3.415448  0.024561  0.446558   NaN\n",
       "4     3.456109  0.027299  0.496343   NaN\n",
       "..         ...       ...       ...   ...\n",
       "495  23.420504 -0.000004 -0.000069   NaN\n",
       "496  23.461167  0.000013  0.000236   NaN\n",
       "497  23.501827 -0.000004 -0.000069   NaN\n",
       "498  23.542483  0.000038  0.000694   NaN\n",
       "499  23.583143 -0.000004 -0.000069   NaN\n",
       "\n",
       "[500 rows x 4 columns]"
      ]
     },
     "execution_count": 39,
     "metadata": {},
     "output_type": "execute_result"
    }
   ],
   "source": [
    "rdata"
   ]
  },
  {
   "cell_type": "code",
   "execution_count": 41,
   "metadata": {},
   "outputs": [
    {
     "data": {
      "text/plain": [
       "20     0.000102\n",
       "21    -0.000464\n",
       "22    -0.001003\n",
       "23    -0.001327\n",
       "24    -0.002153\n",
       "         ...   \n",
       "495         NaN\n",
       "496         NaN\n",
       "497         NaN\n",
       "498         NaN\n",
       "499         NaN\n",
       "Name: vp20, Length: 480, dtype: float64"
      ]
     },
     "execution_count": 41,
     "metadata": {},
     "output_type": "execute_result"
    }
   ],
   "source": [
    "rdata.vp20[20:]"
   ]
  },
  {
   "cell_type": "code",
   "execution_count": 47,
   "metadata": {},
   "outputs": [
    {
     "data": {
      "text/plain": [
       "-0.002153188596184999"
      ]
     },
     "execution_count": 47,
     "metadata": {},
     "output_type": "execute_result"
    }
   ],
   "source": [
    "#vmin=0\n",
    "rdata.vp20.min()"
   ]
  },
  {
   "cell_type": "code",
   "execution_count": 52,
   "metadata": {},
   "outputs": [
    {
     "data": {
      "text/plain": [
       "1.2296654133999994"
      ]
     },
     "execution_count": 52,
     "metadata": {},
     "output_type": "execute_result"
    }
   ],
   "source": [
    "#vmax?\n",
    "rdata.vp20.max()"
   ]
  },
  {
   "cell_type": "code",
   "execution_count": 53,
   "metadata": {},
   "outputs": [
    {
     "data": {
      "text/plain": [
       "193"
      ]
     },
     "execution_count": 53,
     "metadata": {},
     "output_type": "execute_result"
    }
   ],
   "source": [
    "#cuando?\n",
    "rdata.vp20.idxmax()"
   ]
  },
  {
   "cell_type": "code",
   "execution_count": 54,
   "metadata": {},
   "outputs": [
    {
     "data": {
      "text/plain": [
       "1.2296654133999994"
      ]
     },
     "execution_count": 54,
     "metadata": {},
     "output_type": "execute_result"
    }
   ],
   "source": [
    "rdata.vp20[rdata.vp20.idxmax()]"
   ]
  },
  {
   "cell_type": "code",
   "execution_count": null,
   "metadata": {},
   "outputs": [],
   "source": [
    "# am=(vmax-vmin)/dt"
   ]
  },
  {
   "cell_type": "markdown",
   "metadata": {},
   "source": [
    "## Como definimos dt?"
   ]
  },
  {
   "cell_type": "code",
   "execution_count": 55,
   "metadata": {},
   "outputs": [
    {
     "data": {
      "text/html": [
       "\n",
       "\n",
       "\n",
       "\n",
       "\n",
       "\n",
       "  <div class=\"bk-root\" id=\"bddee0ca-8be4-4c9b-8083-ee187395165d\" data-root-id=\"3506\"></div>\n"
      ]
     },
     "metadata": {},
     "output_type": "display_data"
    },
    {
     "data": {
      "application/javascript": [
       "(function(root) {\n",
       "  function embed_document(root) {\n",
       "    \n",
       "  var docs_json = {\"5c181962-ca62-412f-9f6a-45a77fc6553b\":{\"roots\":{\"references\":[{\"attributes\":{\"below\":[{\"id\":\"3515\"}],\"center\":[{\"id\":\"3518\"},{\"id\":\"3522\"}],\"left\":[{\"id\":\"3519\"}],\"plot_height\":500,\"plot_width\":1200,\"renderers\":[{\"id\":\"3539\"},{\"id\":\"3544\"}],\"title\":{\"id\":\"3688\"},\"toolbar\":{\"id\":\"3529\"},\"x_range\":{\"id\":\"3507\"},\"x_scale\":{\"id\":\"3511\"},\"y_range\":{\"id\":\"3509\"},\"y_scale\":{\"id\":\"3513\"}},\"id\":\"3506\",\"subtype\":\"Figure\",\"type\":\"Plot\"},{\"attributes\":{\"axis\":{\"id\":\"3515\"},\"ticker\":null},\"id\":\"3518\",\"type\":\"Grid\"},{\"attributes\":{},\"id\":\"3523\",\"type\":\"PanTool\"},{\"attributes\":{\"data_source\":{\"id\":\"3536\"},\"glyph\":{\"id\":\"3537\"},\"hover_glyph\":null,\"muted_glyph\":null,\"nonselection_glyph\":{\"id\":\"3538\"},\"selection_glyph\":null,\"view\":{\"id\":\"3540\"}},\"id\":\"3539\",\"type\":\"GlyphRenderer\"},{\"attributes\":{\"data_source\":{\"id\":\"3541\"},\"glyph\":{\"id\":\"3542\"},\"hover_glyph\":null,\"muted_glyph\":null,\"nonselection_glyph\":{\"id\":\"3543\"},\"selection_glyph\":null,\"view\":{\"id\":\"3545\"}},\"id\":\"3544\",\"type\":\"GlyphRenderer\"},{\"attributes\":{\"fill_alpha\":{\"value\":0.1},\"fill_color\":{\"value\":\"#1f77b4\"},\"line_alpha\":{\"value\":0.1},\"line_color\":{\"value\":\"#1f77b4\"},\"x\":{\"field\":\"x\"},\"y\":{\"field\":\"y\"}},\"id\":\"3538\",\"type\":\"Scatter\"},{\"attributes\":{},\"id\":\"3516\",\"type\":\"BasicTicker\"},{\"attributes\":{},\"id\":\"3695\",\"type\":\"Selection\"},{\"attributes\":{},\"id\":\"3513\",\"type\":\"LinearScale\"},{\"attributes\":{\"fill_color\":{\"value\":\"#1f77b4\"},\"line_color\":{\"value\":\"#1f77b4\"},\"x\":{\"field\":\"x\"},\"y\":{\"field\":\"y\"}},\"id\":\"3537\",\"type\":\"Scatter\"},{\"attributes\":{},\"id\":\"3511\",\"type\":\"LinearScale\"},{\"attributes\":{\"line_color\":\"red\",\"x\":{\"field\":\"x\"},\"y\":{\"field\":\"y\"}},\"id\":\"3542\",\"type\":\"Line\"},{\"attributes\":{\"line_alpha\":0.1,\"line_color\":\"red\",\"x\":{\"field\":\"x\"},\"y\":{\"field\":\"y\"}},\"id\":\"3543\",\"type\":\"Line\"},{\"attributes\":{},\"id\":\"3507\",\"type\":\"DataRange1d\"},{\"attributes\":{},\"id\":\"3696\",\"type\":\"UnionRenderers\"},{\"attributes\":{},\"id\":\"3509\",\"type\":\"DataRange1d\"},{\"attributes\":{\"formatter\":{\"id\":\"3692\"},\"ticker\":{\"id\":\"3520\"}},\"id\":\"3519\",\"type\":\"LinearAxis\"},{\"attributes\":{},\"id\":\"3693\",\"type\":\"Selection\"},{\"attributes\":{\"overlay\":{\"id\":\"3697\"}},\"id\":\"3525\",\"type\":\"BoxZoomTool\"},{\"attributes\":{},\"id\":\"3690\",\"type\":\"BasicTickFormatter\"},{\"attributes\":{\"formatter\":{\"id\":\"3690\"},\"ticker\":{\"id\":\"3516\"}},\"id\":\"3515\",\"type\":\"LinearAxis\"},{\"attributes\":{\"source\":{\"id\":\"3541\"}},\"id\":\"3545\",\"type\":\"CDSView\"},{\"attributes\":{},\"id\":\"3694\",\"type\":\"UnionRenderers\"},{\"attributes\":{},\"id\":\"3528\",\"type\":\"HelpTool\"},{\"attributes\":{},\"id\":\"3520\",\"type\":\"BasicTicker\"},{\"attributes\":{},\"id\":\"3526\",\"type\":\"SaveTool\"},{\"attributes\":{\"axis\":{\"id\":\"3519\"},\"dimension\":1,\"ticker\":null},\"id\":\"3522\",\"type\":\"Grid\"},{\"attributes\":{\"data\":{\"x\":{\"__ndarray__\":\"PN1djQpZCkBp4CFuSawKQNaqb/aN/wpA7H5fbdZSC0CSk2hNHKYLQKDljVRe+QtA78mTCZdMDEBSL/DD3p8MQBfFozsl8wxAQlBe+WZGDUAS5QiiuZkNQF6ubooB7Q1ABkulOkVADkD5Te9PmpMOQG/KnRjg5g5A0HqLliI6D0AUAggLZo0PQBDdYGan4A9AlMDr1fUZEEDbINepmUMQQMjFPB4/bRBA5XZsWuKWEECiv7EWiMAQQDAUJywu6hBAZXETdtATEUDFYWvhcj0RQPkieWUZZxFAj9zSHrqQEUAY8GL8XLoRQGseQ6T/4xFAh5NS1aYNEkCT2eEuSTcSQIevkGjrYBJA8EBYHoiKEkBdTC4kMrQSQKbQkCnT3RJASjD4224HE0BubvOWEDETQGzyJIG3WhNArnnZn1mEE0BnXQYQ/K0TQMM8y/aY1xNAG3wx+T4BFEAcqL654CoUQDsZXkGBVBRAbK2IyiF+FEDyBP+xyacUQEDuvSBr0RRAnN0EJgr7FEB+6FTCqyQVQH/4kQxNThVAcCZQC/h3FUCmj1v0l6EVQHKemJI4yxVA9jRnStn0FUCArKCceh4WQAV4T0ElSBZAah2eI8dxFkCtFDWqaZsWQKcnt+MJxRZA6p5HVavuFkCq5GF2VhgXQDuV1FX2QRdAgZmb4ZlrF0DWH/k0O5UXQKenUFzcvhdAjOfRLIfoF0Bcn5VbKhIYQEQT3NPLOxhACTXgf21lGED0UO1pDY8YQHKTGbu5uBhA0Rd6eFriGEB/Zedl+wsZQODV2kqbNRlAwyRVDj9fGUBkHIYD34gZQO6bUayAshlA7ruyoyLcGUCQL1A7xAUaQDGj7dJlLxpAPTV9xwdZGkAnZi9usoIaQKdDAqFQrBpAxaBOpPTVGkC64onwlP8aQL371JI9KRtAEdIqZd9SG0DFDNFEf3wbQH6QMtAfphtA7L+MMcnPG0ApKpxWavkbQPXI9owKIxxAy6Xk4axMHEDLwQnYUHYcQDSM+qX3nxxA83iwfpnJHEBIDyVVOfMcQPsBw33aHB1AE5pFpH1GHUDY+x0iH3AdQAmsmCHAmR1A2gfalmHDHUAerFotC+0dQOMNM6usFh5AMIvDeFFAHkBTmQ4P9GkeQHeT+faXkx5AxazG+zm9HkCx5Z9d4eYeQEVf1P2CEB9A8Vh4Bik6H0CfQoCcyGMfQO0jrbRpjR9AGzinXxC3H0C9G8ntsOAfQBXlp3gpBSBAFcWhOvoZIECBxyfMyi4gQHUPc8ObQyBAvePpnGxYIEAmsuF5QW0gQFdYO00QgiBA/VzFxuKWIEBp7Rs3s6sgQLeWc3CDwCBAe4JNaFXVIEDzmOE8JeogQM/uBXD3/iBAjk0Hv8gTIUBera20mSghQIdc/K9rPSFAfHBBLTtSIUClOZPlDWchQCkYk9PeeyFAP5Cl17KQIUCN43vXhKUhQJ7kYppWuiFA38MbVSrPIUCE/E3X/OMhQHSzyEHM+CFABwkAd6ENIkC6J9CmcSIiQIv5pb1CNyJAs8aeEhdMIkANKD6452AiQOQC7n63dSJA4mbzY4yKIkBruHf2XZ8iQNfSVRoutCJA+VL5UALJIkCabNuu0t0iQGtIMmSi8iJAVJQY8nIHI0DLFKgCRBwjQONIkN8VMSNADTByneZFI0Def6Oet1ojQNhk3sGHbyNA8PChu1mEI0B+24gxLZkjQGHI+YH8rSNAT5FDxM3CI0DyLrl/nNcjQCsFmIpx7CNAIOFJRUIBJEDr7abGERYkQHMjl8XlKiRAl6PPYLY/JEAUc1KQhlQkQBUdqNdWaSRAn/K/xyZ+JEC7hSoM/JIkQLvnyOPMpyRAA85Sspy8JEB1l0AhbdEkQDd3qjJC5iRAgFWiqhH7JEBEiTMS4w8lQN9J8vm0JCVAKzXWWYg5JUB/gWJcWE4lQGjbH94pYyVAuT/Nf/53JUBt0G5fzYwlQIVW7bueoSVADzjgLW+2JUDa5M87PsslQGPSnS8P4CVAPYae/+T0JUD8oNOYtQkmQCDZVMSGHiZAvLWnP1YzJkBcg+dzKEgmQM6ksP/4XCZAFjNfschxJkDUIdwJm4YmQJdV2AxwmyZAbfijyUGwJkAmZsWJEsUmQMFeFzTj2SZAmPlQmrTuJkDsPUtGhAMnQI1TQupVGCdA6+XzYSgtJ0B7eEPY+EEnQOxlwszKVidAGijXsZ1rJ0DkzJ8EcIAnQA/yWSJAlSdAgHfZTBGqJ0BQaUgF474nQLYgxjGz0ydA2dBq1IXoJ0AJu+7OVv0nQFG9d8wnEihAPSQhNv0mKEDAVLejzTsoQIWUI42fUChArx2USXBlKEDqKawzQnooQJHg2y4TjyhAJbzzeuajKED7TpuKt7goQKTNzCeGzShA/Y7ZQFfiKEBLMpuVJ/coQNgkwxr8CylAcyFe8MwgKUD3tar8nTUpQHpK9whvSilA5K7zqUJfKUCdIF6VE3QpQNJzhyTliClAzSCAzLWdKUDBvK78hbIpQOArHSBWxylAyJX+TijcKUBFdaUr+fApQNTTqgrLBSpAkv4DUZwaKkAW45kjbS8qQObILVo+RCpAFB9l5RNZKkBVxCPQ5G0qQG42NVS1gipAVVyoPoiXKkBba1rvWKwqQCBLWWUqwSpAf83mL/zVKkC7ZSTOzOoqQKiUz9mf/ypAwF68enAUK0B0a8r8QCkrQKkOPVISPitA00/2nuNSK0BzyaPhtWcrQHnoeT+HfCtA3n8arVmRK0C6y7AXK6YrQNL9nIL8uitAijd0q87PK0B4liAjoOQrQAf9t1hy+StA3RNeYUUOLEDumDbzFiMsQNZSYejoNyxABuUJxrlMLEDolfyZi2EsQDGk9X1ZdixAxmug8SuLLEAZJHXp/J8sQHM5FPTNtCxAPeZunaDJLEB52tCDcd4sQHk03QRC8yxAK8GgVBQILUAlipgr5hwtQGGOHr+3MS1AW9/yHohGLUDqedTrWFstQIUuuFEqcC1AYdq7L/yELUBzvwE1zpktQEn6zSefri1A8MRq+3DDLUA+IHXgQdgtQG7u+asR7S1AedbiEeQBLkCXGZn0tRYuQNLZsEOIKy5AIUm9ZVZALkATxXlyLFUuQCHRHSf5aS5AjBXSbct+LkAtexLYnJMuQLWMcVFvqC5AmNEbMEC9LkABRjx+FNIuQOw72MXh5i5AVwQgarL7LkC8i5wqhBAvQOYg6GhVJS9AjBvxQyk6L0DZhh/W+k4vQB+NXJrPYy9AJMx6UqJ4L0DiYhyOdI0vQGW/1ddGoi9A1qxUzBi3L0ALoBDo6csvQH0lkBK74C9AcEF0EI31L0D0VU1rLgUwQNbN3nyXDzBAI4riuAAaMECUMDYhayQwQGpKV1XULjBANTYJGDw5MECmEpZfo0MwQE72CX8KTjBAnHTX6XJYMEDYQesC2mIwQAc1jTdDbTBARAKhUKp3MEAI11AoE4IwQOokGUF8jDBAf1uH1eWWMECoJwNyT6EwQAEkiRS5qzBAv9/cHSG2MEAGTzr0isAwQCrMtUfzyjBAWpnXrlzVMED0cH6axd8wQKG3X9su6jBA1s3efJf0MEA8Oujx//4wQPRocHxpCTFAX5b6otITMUAMf124OR4xQJuskyujKDFAgwfdkAwzMUCyFCQRdT0xQI6xjyXeRzFADJj6WEVSMUAYN15PrlwxQDBiREcXZzFAWXIuKIBxMUAMOBEe6XsxQKa7JRhShjFAkATx7LiQMUC/caXgIZsxQGwmvl6KpTFAEornS/OvMUBgJqMtW7oxQNFQivPDxDFAcmcNey3PMUAkKadFltkxQEhOR3z+4zFAB/Q+ZWfuMUAAMEOI0PgxQJUoe0s5AzJAZmMtV6INMkCg3BkaDRgyQBcycKN1IjJAsllgVd4sMkB8L7b3RjcyQFM1alOvQTJANStXTxhMMkAFZglbgVYyQBD767LrYDJAq6A3T1RrMkCOCKWzvHUyQHDMNmAlgDJAC0Rw2I2KMkAERJgN+JQyQNR6Ae5gnzJAELzvUsmpMkCxNM+VMbQyQM82kl+avjJA2++aoQLJMkDbmnzMatMyQNSe7SzV3TJAYzLJhj3oMkAcx/b3pfIyQF6DneYN/TJAgb4E2XgHM0Cld1wa4BEzQEYm4NdIHDNA5yStW7EmM0AjRlNmGDEzQHahoLGCOzNAvfhHhOtFM0BkpCjhU1AzQBB5ibm9WjNAUi2eUSVlM0BYRW48jm8zQOdEkov3eTNAe2vccmCEM0Db0vbxyI4zQFjrvHQwmTNA23LLmpqjM0CCvj6EAq4zQGS4dKtruDNAKFM33dPCM0CTtmV+Pc0zQLEu8tul1zNABSzB+w3iM0BAcfiLduwzQHAu9kXf9jNArDX3BEcBNEBHSXrergs0QHCBPnAZFjRAHYagtIEgNEBNtR7X6So0QHfriIVSNTRAiU1cdbo/NEB9WqipI0o0QMQvq2aMVDRAL3GiZfZeNEB8tYIqXmk0QAXS7iXHczRAvhbT0C9+NEAAK1Xcl4g0QAaPJWIAkzRAvv3SBWmdNECbDL+C0ac0QGsZX2o6sjRANutr4aK8NEDoSqnwDMc0QNu7q8N20TRAykvlit7bNEDimAIlR+Y0QFkU2Xuv8DRAoGuAThj7NEC4mq9xgQU1QI6gY83pDzVAcJ7iH1MaNUDbvaJ8vSQ1QPgXQWMmLzVAe1U+No85NUDDSC9q90M1QP5BZl9gTjVAIWUXTspYNUCqdajHMmM1QLYMemebbTVAjTAcOgN4NUClhcsqbII1QG6LjdTWjDVAgfGp7z6XNUB6Uy7gp6E1QCcqfgAQrDVA1GSEv3i2NUCN9WgF4cA1QLYJnBFKyzVAtowOJ7TVNUDsFA4xHOA1QJPak9mD6jVAQDsaZuz0NUA/qh+jVf81QHsNRaq9CTZAz16muyUUNkAFQ8oNjh42QI137Az4KDZATGnkkGAzNkCxAwAqyT02QOzOJPsxSDZAjZdNBJpSNkDV5mKAAl02QLd84ghrZzZAWKV4hdNxNkB2C/LtPHw2QLH4TWGlhjZAdikigQ6RNkD4wkOcd5s2QNv4VbHfpTZA85kFPUiwNkDtbQqWsLo2QEekEkMXxTZAgz3cxH/PNkC5YSUw59k2QAFdqLpP5DZA0Rn/27juNkB+eoVoIfk2QDCMaPmJAzdADN3TcvMNN0CtXUUMXBg3QH0anC3FIjdAKfvXhy8tN0CyOXslmDc3QFmlNmkBQjdAcJ7BEWpMN0CC7oEM01Y3QIKlPrk7YTdApf6TIqZrN0C9fQwMD3Y3QEY+VL93gDdA57p8LeCKN0DtIpbeSJU3QA==\",\"dtype\":\"float64\",\"shape\":[500]},\"y\":{\"__ndarray__\":\"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\",\"dtype\":\"float64\",\"shape\":[500]}},\"selected\":{\"id\":\"3695\"},\"selection_policy\":{\"id\":\"3696\"}},\"id\":\"3541\",\"type\":\"ColumnDataSource\"},{\"attributes\":{},\"id\":\"3692\",\"type\":\"BasicTickFormatter\"},{\"attributes\":{\"data\":{\"x\":{\"__ndarray__\":\"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\",\"dtype\":\"float64\",\"shape\":[500]},\"y\":{\"__ndarray__\":\"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\",\"dtype\":\"float64\",\"shape\":[500]}},\"selected\":{\"id\":\"3693\"},\"selection_policy\":{\"id\":\"3694\"}},\"id\":\"3536\",\"type\":\"ColumnDataSource\"},{\"attributes\":{\"source\":{\"id\":\"3536\"}},\"id\":\"3540\",\"type\":\"CDSView\"},{\"attributes\":{},\"id\":\"3527\",\"type\":\"ResetTool\"},{\"attributes\":{\"active_drag\":\"auto\",\"active_inspect\":\"auto\",\"active_multi\":null,\"active_scroll\":\"auto\",\"active_tap\":\"auto\",\"tools\":[{\"id\":\"3523\"},{\"id\":\"3524\"},{\"id\":\"3525\"},{\"id\":\"3526\"},{\"id\":\"3527\"},{\"id\":\"3528\"}]},\"id\":\"3529\",\"type\":\"Toolbar\"},{\"attributes\":{\"bottom_units\":\"screen\",\"fill_alpha\":0.5,\"fill_color\":\"lightgrey\",\"left_units\":\"screen\",\"level\":\"overlay\",\"line_alpha\":1.0,\"line_color\":\"black\",\"line_dash\":[4,4],\"line_width\":2,\"render_mode\":\"css\",\"right_units\":\"screen\",\"top_units\":\"screen\"},\"id\":\"3697\",\"type\":\"BoxAnnotation\"},{\"attributes\":{\"text\":\"\"},\"id\":\"3688\",\"type\":\"Title\"},{\"attributes\":{},\"id\":\"3524\",\"type\":\"WheelZoomTool\"}],\"root_ids\":[\"3506\"]},\"title\":\"Bokeh Application\",\"version\":\"2.0.0\"}};\n",
       "  var render_items = [{\"docid\":\"5c181962-ca62-412f-9f6a-45a77fc6553b\",\"root_ids\":[\"3506\"],\"roots\":{\"3506\":\"bddee0ca-8be4-4c9b-8083-ee187395165d\"}}];\n",
       "  root.Bokeh.embed.embed_items_notebook(docs_json, render_items);\n",
       "\n",
       "  }\n",
       "  if (root.Bokeh !== undefined) {\n",
       "    embed_document(root);\n",
       "  } else {\n",
       "    var attempts = 0;\n",
       "    var timer = setInterval(function(root) {\n",
       "      if (root.Bokeh !== undefined) {\n",
       "        clearInterval(timer);\n",
       "        embed_document(root);\n",
       "      } else {\n",
       "        attempts++;\n",
       "        if (attempts > 100) {\n",
       "          clearInterval(timer);\n",
       "          console.log(\"Bokeh: ERROR: Unable to run BokehJS code because BokehJS library is missing\");\n",
       "        }\n",
       "      }\n",
       "    }, 10, root)\n",
       "  }\n",
       "})(window);"
      ],
      "application/vnd.bokehjs_exec.v0+json": ""
     },
     "metadata": {
      "application/vnd.bokehjs_exec.v0+json": {
       "id": "3506"
      }
     },
     "output_type": "display_data"
    }
   ],
   "source": [
    "# creamos la instancia figura\n",
    "p = figure(plot_width=1200, plot_height=500)\n",
    "p.scatter(rdata.t,rdata.v)\n",
    "p.line(rdata.t,rdata.v.rolling(window=20,center=True).mean(),color='red')\n",
    "show(p)"
   ]
  },
  {
   "cell_type": "markdown",
   "metadata": {},
   "source": [
    "## Como definimos el angulo?\n",
    "\n",
    "\n",
    "<img src=\"4.jpg\">"
   ]
  },
  {
   "cell_type": "markdown",
   "metadata": {},
   "source": [
    "# ImageJ\n",
    "\n",
    "https://imagej.nih.gov/ij/download.html"
   ]
  },
  {
   "cell_type": "markdown",
   "metadata": {},
   "source": [
    "<img src=\"6.png\">"
   ]
  },
  {
   "cell_type": "code",
   "execution_count": null,
   "metadata": {},
   "outputs": [],
   "source": []
  },
  {
   "cell_type": "code",
   "execution_count": null,
   "metadata": {},
   "outputs": [],
   "source": []
  },
  {
   "cell_type": "code",
   "execution_count": null,
   "metadata": {},
   "outputs": [],
   "source": []
  },
  {
   "cell_type": "code",
   "execution_count": null,
   "metadata": {},
   "outputs": [],
   "source": []
  },
  {
   "cell_type": "markdown",
   "metadata": {},
   "source": [
    "<img src=\"7.png\">"
   ]
  },
  {
   "cell_type": "code",
   "execution_count": null,
   "metadata": {},
   "outputs": [],
   "source": []
  },
  {
   "cell_type": "code",
   "execution_count": null,
   "metadata": {},
   "outputs": [],
   "source": []
  },
  {
   "cell_type": "code",
   "execution_count": null,
   "metadata": {},
   "outputs": [],
   "source": []
  },
  {
   "cell_type": "markdown",
   "metadata": {},
   "source": [
    "<img src=\"5.png\">"
   ]
  }
 ],
 "metadata": {
  "kernelspec": {
   "display_name": "Python 3",
   "language": "python",
   "name": "python3"
  },
  "language_info": {
   "codemirror_mode": {
    "name": "ipython",
    "version": 3
   },
   "file_extension": ".py",
   "mimetype": "text/x-python",
   "name": "python",
   "nbconvert_exporter": "python",
   "pygments_lexer": "ipython3",
   "version": "3.7.4"
  }
 },
 "nbformat": 4,
 "nbformat_minor": 4
}
